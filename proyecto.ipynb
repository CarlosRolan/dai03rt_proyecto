{
 "cells": [
  {
   "cell_type": "markdown",
   "id": "83bf75d1",
   "metadata": {},
   "source": [
    "### LLAMAR A LAMBDA"
   ]
  },
  {
   "cell_type": "code",
   "execution_count": 4,
   "id": "31da1289",
   "metadata": {},
   "outputs": [],
   "source": [
    "import boto3\n",
    "from botocore.exceptions import ClientError\n",
    "import json\n",
    "from datetime import datetime, timedelta\n",
    "\n",
    "# Inicializar cliente Lambda\n",
    "lambda_client = boto3.client('lambda')"
   ]
  },
  {
   "cell_type": "code",
   "execution_count": 5,
   "id": "f8e53286",
   "metadata": {},
   "outputs": [],
   "source": [
    "## Listar funciones Lambda existentes\n",
    "\n",
    "def listar_funciones():\n",
    "    response = lambda_client.list_functions()\n",
    "    for f in response['Functions']:\n",
    "        print(f\"{f['FunctionName']} | Runtime: {f['Runtime']} | Última modif: {f['LastModified']}\")\n",
    "\n",
    "listar_funciones()"
   ]
  },
  {
   "cell_type": "code",
   "execution_count": null,
   "id": "b7569f29",
   "metadata": {},
   "outputs": [],
   "source": []
  }
 ],
 "metadata": {
  "kernelspec": {
   "display_name": "venv",
   "language": "python",
   "name": "python3"
  },
  "language_info": {
   "codemirror_mode": {
    "name": "ipython",
    "version": 3
   },
   "file_extension": ".py",
   "mimetype": "text/x-python",
   "name": "python",
   "nbconvert_exporter": "python",
   "pygments_lexer": "ipython3",
   "version": "3.12.5"
  }
 },
 "nbformat": 4,
 "nbformat_minor": 5
}
